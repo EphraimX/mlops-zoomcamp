{
 "cells": [
  {
   "cell_type": "code",
   "execution_count": 1,
   "metadata": {},
   "outputs": [
    {
     "name": "stdout",
     "output_type": "stream",
     "text": [
      "Python 3.10.4\n"
     ]
    }
   ],
   "source": [
    "!python -V"
   ]
  },
  {
   "cell_type": "code",
   "execution_count": 4,
   "metadata": {},
   "outputs": [],
   "source": [
    "import pickle\n",
    "import pandas as pd"
   ]
  },
  {
   "cell_type": "code",
   "execution_count": 7,
   "metadata": {},
   "outputs": [],
   "source": [
    "with open('model.bin', 'rb') as f_in:\n",
    "    dv, lr = pickle.load(f_in)"
   ]
  },
  {
   "cell_type": "code",
   "execution_count": 17,
   "metadata": {},
   "outputs": [],
   "source": [
    "categorical = ['PUlocationID', 'DOlocationID']\n",
    "\n",
    "def read_data(filename):\n",
    "    df = pd.read_parquet(filename)\n",
    "    \n",
    "    df['duration'] = df.dropOff_datetime - df.pickup_datetime\n",
    "    df['duration'] = df.duration.dt.total_seconds() / 60\n",
    "\n",
    "    df = df[(df.duration >= 1) & (df.duration <= 60)].copy()\n",
    "\n",
    "    df[categorical] = df[categorical].fillna(-1).astype('int').astype('str')\n",
    "    \n",
    "    return df"
   ]
  },
  {
   "cell_type": "code",
   "execution_count": 18,
   "metadata": {},
   "outputs": [],
   "source": [
    "df = read_data('data/fhv_tripdata_2021-02.parquet')"
   ]
  },
  {
   "cell_type": "code",
   "execution_count": 21,
   "metadata": {},
   "outputs": [
    {
     "data": {
      "text/plain": [
       "16.191691679979066"
      ]
     },
     "execution_count": 21,
     "metadata": {},
     "output_type": "execute_result"
    }
   ],
   "source": [
    "dicts = df[categorical].to_dict(orient='records')\n",
    "X_val = dv.transform(dicts)\n",
    "y_pred = lr.predict(X_val)\n",
    "y_pred.mean()"
   ]
  },
  {
   "cell_type": "code",
   "execution_count": 22,
   "metadata": {},
   "outputs": [
    {
     "data": {
      "text/html": [
       "<div>\n",
       "<style scoped>\n",
       "    .dataframe tbody tr th:only-of-type {\n",
       "        vertical-align: middle;\n",
       "    }\n",
       "\n",
       "    .dataframe tbody tr th {\n",
       "        vertical-align: top;\n",
       "    }\n",
       "\n",
       "    .dataframe thead th {\n",
       "        text-align: right;\n",
       "    }\n",
       "</style>\n",
       "<table border=\"1\" class=\"dataframe\">\n",
       "  <thead>\n",
       "    <tr style=\"text-align: right;\">\n",
       "      <th></th>\n",
       "      <th>dispatching_base_num</th>\n",
       "      <th>pickup_datetime</th>\n",
       "      <th>dropOff_datetime</th>\n",
       "      <th>PUlocationID</th>\n",
       "      <th>DOlocationID</th>\n",
       "      <th>SR_Flag</th>\n",
       "      <th>Affiliated_base_number</th>\n",
       "      <th>duration</th>\n",
       "    </tr>\n",
       "  </thead>\n",
       "  <tbody>\n",
       "    <tr>\n",
       "      <th>1</th>\n",
       "      <td>B00021</td>\n",
       "      <td>2021-02-01 00:55:40</td>\n",
       "      <td>2021-02-01 01:06:20</td>\n",
       "      <td>173</td>\n",
       "      <td>82</td>\n",
       "      <td>None</td>\n",
       "      <td>B00021</td>\n",
       "      <td>10.666667</td>\n",
       "    </tr>\n",
       "    <tr>\n",
       "      <th>2</th>\n",
       "      <td>B00021</td>\n",
       "      <td>2021-02-01 00:14:03</td>\n",
       "      <td>2021-02-01 00:28:37</td>\n",
       "      <td>173</td>\n",
       "      <td>56</td>\n",
       "      <td>None</td>\n",
       "      <td>B00021</td>\n",
       "      <td>14.566667</td>\n",
       "    </tr>\n",
       "    <tr>\n",
       "      <th>3</th>\n",
       "      <td>B00021</td>\n",
       "      <td>2021-02-01 00:27:48</td>\n",
       "      <td>2021-02-01 00:35:45</td>\n",
       "      <td>82</td>\n",
       "      <td>129</td>\n",
       "      <td>None</td>\n",
       "      <td>B00021</td>\n",
       "      <td>7.950000</td>\n",
       "    </tr>\n",
       "    <tr>\n",
       "      <th>4</th>\n",
       "      <td>B00037</td>\n",
       "      <td>2021-02-01 00:12:50</td>\n",
       "      <td>2021-02-01 00:26:38</td>\n",
       "      <td>-1</td>\n",
       "      <td>225</td>\n",
       "      <td>None</td>\n",
       "      <td>B00037</td>\n",
       "      <td>13.800000</td>\n",
       "    </tr>\n",
       "    <tr>\n",
       "      <th>5</th>\n",
       "      <td>B00037</td>\n",
       "      <td>2021-02-01 00:00:37</td>\n",
       "      <td>2021-02-01 00:09:35</td>\n",
       "      <td>-1</td>\n",
       "      <td>61</td>\n",
       "      <td>None</td>\n",
       "      <td>B00037</td>\n",
       "      <td>8.966667</td>\n",
       "    </tr>\n",
       "    <tr>\n",
       "      <th>...</th>\n",
       "      <td>...</td>\n",
       "      <td>...</td>\n",
       "      <td>...</td>\n",
       "      <td>...</td>\n",
       "      <td>...</td>\n",
       "      <td>...</td>\n",
       "      <td>...</td>\n",
       "      <td>...</td>\n",
       "    </tr>\n",
       "    <tr>\n",
       "      <th>1037687</th>\n",
       "      <td>B03282</td>\n",
       "      <td>2021-02-28 23:01:16</td>\n",
       "      <td>2021-02-28 23:14:48</td>\n",
       "      <td>-1</td>\n",
       "      <td>31</td>\n",
       "      <td>None</td>\n",
       "      <td>B01717</td>\n",
       "      <td>13.533333</td>\n",
       "    </tr>\n",
       "    <tr>\n",
       "      <th>1037688</th>\n",
       "      <td>B03282</td>\n",
       "      <td>2021-02-28 23:36:10</td>\n",
       "      <td>2021-02-28 23:47:38</td>\n",
       "      <td>-1</td>\n",
       "      <td>169</td>\n",
       "      <td>None</td>\n",
       "      <td>B01717</td>\n",
       "      <td>11.466667</td>\n",
       "    </tr>\n",
       "    <tr>\n",
       "      <th>1037689</th>\n",
       "      <td>B03285</td>\n",
       "      <td>2021-02-28 23:18:36</td>\n",
       "      <td>2021-02-28 23:43:59</td>\n",
       "      <td>28</td>\n",
       "      <td>171</td>\n",
       "      <td>None</td>\n",
       "      <td>B03285</td>\n",
       "      <td>25.383333</td>\n",
       "    </tr>\n",
       "    <tr>\n",
       "      <th>1037690</th>\n",
       "      <td>B03285</td>\n",
       "      <td>2021-02-28 23:26:34</td>\n",
       "      <td>2021-02-28 23:44:37</td>\n",
       "      <td>16</td>\n",
       "      <td>252</td>\n",
       "      <td>None</td>\n",
       "      <td>B03285</td>\n",
       "      <td>18.050000</td>\n",
       "    </tr>\n",
       "    <tr>\n",
       "      <th>1037691</th>\n",
       "      <td>B03285</td>\n",
       "      <td>2021-02-28 23:24:00</td>\n",
       "      <td>2021-02-28 23:40:00</td>\n",
       "      <td>171</td>\n",
       "      <td>135</td>\n",
       "      <td>None</td>\n",
       "      <td>B03285</td>\n",
       "      <td>16.000000</td>\n",
       "    </tr>\n",
       "  </tbody>\n",
       "</table>\n",
       "<p>990113 rows × 8 columns</p>\n",
       "</div>"
      ],
      "text/plain": [
       "        dispatching_base_num     pickup_datetime    dropOff_datetime  \\\n",
       "1            B00021          2021-02-01 00:55:40 2021-02-01 01:06:20   \n",
       "2            B00021          2021-02-01 00:14:03 2021-02-01 00:28:37   \n",
       "3            B00021          2021-02-01 00:27:48 2021-02-01 00:35:45   \n",
       "4                     B00037 2021-02-01 00:12:50 2021-02-01 00:26:38   \n",
       "5                     B00037 2021-02-01 00:00:37 2021-02-01 00:09:35   \n",
       "...                      ...                 ...                 ...   \n",
       "1037687               B03282 2021-02-28 23:01:16 2021-02-28 23:14:48   \n",
       "1037688               B03282 2021-02-28 23:36:10 2021-02-28 23:47:38   \n",
       "1037689      B03285          2021-02-28 23:18:36 2021-02-28 23:43:59   \n",
       "1037690      B03285          2021-02-28 23:26:34 2021-02-28 23:44:37   \n",
       "1037691      B03285          2021-02-28 23:24:00 2021-02-28 23:40:00   \n",
       "\n",
       "        PUlocationID DOlocationID SR_Flag Affiliated_base_number   duration  \n",
       "1                173           82    None        B00021           10.666667  \n",
       "2                173           56    None        B00021           14.566667  \n",
       "3                 82          129    None        B00021            7.950000  \n",
       "4                 -1          225    None                 B00037  13.800000  \n",
       "5                 -1           61    None                 B00037   8.966667  \n",
       "...              ...          ...     ...                    ...        ...  \n",
       "1037687           -1           31    None                 B01717  13.533333  \n",
       "1037688           -1          169    None                 B01717  11.466667  \n",
       "1037689           28          171    None        B03285           25.383333  \n",
       "1037690           16          252    None        B03285           18.050000  \n",
       "1037691          171          135    None        B03285           16.000000  \n",
       "\n",
       "[990113 rows x 8 columns]"
      ]
     },
     "execution_count": 22,
     "metadata": {},
     "output_type": "execute_result"
    }
   ],
   "source": [
    "df"
   ]
  }
 ],
 "metadata": {
  "kernelspec": {
   "display_name": "Python 3.10.4 ('env': venv)",
   "language": "python",
   "name": "python3"
  },
  "language_info": {
   "codemirror_mode": {
    "name": "ipython",
    "version": 3
   },
   "file_extension": ".py",
   "mimetype": "text/x-python",
   "name": "python",
   "nbconvert_exporter": "python",
   "pygments_lexer": "ipython3",
   "version": "3.10.4"
  },
  "orig_nbformat": 4,
  "vscode": {
   "interpreter": {
    "hash": "22da8984b1ed8c801a9099ee7bb437cc29cdd7e3a6cf1cef121975d20f886622"
   }
  }
 },
 "nbformat": 4,
 "nbformat_minor": 2
}
